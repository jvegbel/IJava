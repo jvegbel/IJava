{
  "nbformat": 4,
  "nbformat_minor": 0,
  "metadata": {
    "colab": {
      "provenance": [],
      "authorship_tag": "ABX9TyMoKvQdTD02T6/eoVj7cQLO",
      "include_colab_link": true
    },
    "kernelspec": {
      "name": "java",
      "display_name": "Java"
    }
  },
  "cells": [
    {
      "cell_type": "markdown",
      "metadata": {
        "id": "view-in-github",
        "colab_type": "text"
      },
      "source": [
        "<a href=\"https://colab.research.google.com/github/jvegbel/IJava/blob/master/RunJavaGoogleColab.ipynb\" target=\"_parent\"><img src=\"https://colab.research.google.com/assets/colab-badge.svg\" alt=\"Open In Colab\"/></a>"
      ]
    },
    {
      "cell_type": "markdown",
      "source": [
        "Aquí tienes los pasos para ejecutar código Java en Google Colab:\n",
        "\n",
        "\n",
        "1.   Crear un nuevo cuaderno en Google Colab:\n",
        "\n",
        "  *   Abre [Google Colab](https://colab.research.google.com/) y crea un nuevo cuaderno.\n",
        "\n",
        "\n",
        "2.   Instalar el kernel de Java (IJava):\n",
        "   \n",
        "  *   En una celda de código, ejecuta los siguientes comandos para instalar OpenJDK y el kernel de IJava:\n",
        "\n",
        "```\n",
        "  !apt update -q\n",
        "  !apt-get install -q openjdk-11-jdk-headless\n",
        "  !curl -L -o ijava.zip https://github.com/SpencerPark/IJava/releases/download/v1.3.0/ijava-1.3.0.zip\n",
        "  !unzip -q ijava.zip -d ijava\n",
        "  !python3 ijava/install.py --sys-prefix\n",
        "```\n",
        "\n",
        "3. Actualizar el kernel:\n",
        "  * Después de ejecutar los comandos anteriores, actualiza la página (presiona F5).\n",
        "\n",
        "4. Cambiar el kernel a Java:\n",
        "  * Ve a Entorno de ejecución > Cambiar tipo de entorno de ejecución y selecciona Java como el kernel.\n",
        "\n",
        "5. Escribir y ejecutar código Java:\n",
        "  * Ahora puedes escribir y ejecutar código Java en las celdas de tu cuaderno. Por ejemplo:\n",
        "\n",
        "\n",
        "  ```\n",
        "  # Tiene formato de código Java\n",
        "  System.out.println(\"¡Hola, mundo!\");\n",
        "  ```\n",
        "\n",
        "\n"
      ],
      "metadata": {
        "id": "Oq-2UKvmItSM"
      }
    },
    {
      "cell_type": "code",
      "source": [
        "print(\"prueba python\")"
      ],
      "metadata": {
        "colab": {
          "base_uri": "https://localhost:8080/"
        },
        "id": "3VJlZZaKH9fs",
        "outputId": "286d3f1d-bd7f-4e24-93cd-ef9e59da58db"
      },
      "execution_count": null,
      "outputs": [
        {
          "output_type": "stream",
          "name": "stdout",
          "text": [
            "prueba python\n"
          ]
        }
      ]
    },
    {
      "cell_type": "code",
      "source": [
        "System.out.println(\"¡Hola, mundo!\");\n",
        "Scanner in = new Scanner(System.in);\n",
        "String nombre = in.nextLine();\n",
        "System.out.println(\"Hola, \" + nombre + \"!\");\n"
      ],
      "metadata": {
        "id": "B6CUDRfSGyb-",
        "colab": {
          "base_uri": "https://localhost:8080/",
          "height": 141
        },
        "outputId": "d2266446-73b7-4cc3-8b81-10539629abbe"
      },
      "execution_count": null,
      "outputs": [
        {
          "output_type": "error",
          "ename": "NameError",
          "evalue": "name 'System' is not defined",
          "traceback": [
            "\u001b[0;31m---------------------------------------------------------------------------\u001b[0m",
            "\u001b[0;31mNameError\u001b[0m                                 Traceback (most recent call last)",
            "\u001b[0;32m<ipython-input-1-38e2f5912e81>\u001b[0m in \u001b[0;36m<cell line: 1>\u001b[0;34m()\u001b[0m\n\u001b[0;32m----> 1\u001b[0;31m \u001b[0mSystem\u001b[0m\u001b[0;34m.\u001b[0m\u001b[0mout\u001b[0m\u001b[0;34m.\u001b[0m\u001b[0mprintln\u001b[0m\u001b[0;34m(\u001b[0m\u001b[0;34m\"¡Hola, mundo!\"\u001b[0m\u001b[0;34m)\u001b[0m\u001b[0;34m;\u001b[0m\u001b[0;34m\u001b[0m\u001b[0;34m\u001b[0m\u001b[0m\n\u001b[0m",
            "\u001b[0;31mNameError\u001b[0m: name 'System' is not defined"
          ]
        }
      ]
    },
    {
      "cell_type": "code",
      "source": [
        "a =3 +7\n",
        "a\n"
      ],
      "metadata": {
        "colab": {
          "base_uri": "https://localhost:8080/"
        },
        "id": "t7mT1OGFIM2h",
        "outputId": "7a7351aa-2a2a-490c-e9af-3c9312d5e4e3"
      },
      "execution_count": null,
      "outputs": [
        {
          "output_type": "execute_result",
          "data": {
            "text/plain": [
              "10"
            ]
          },
          "metadata": {},
          "execution_count": 5
        }
      ]
    },
    {
      "cell_type": "markdown",
      "source": [],
      "metadata": {
        "id": "SvYR84MPIj3T"
      }
    }
  ]
}